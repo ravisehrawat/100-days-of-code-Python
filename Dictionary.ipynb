{
  "nbformat": 4,
  "nbformat_minor": 0,
  "metadata": {
    "colab": {
      "provenance": [],
      "authorship_tag": "ABX9TyMwjD0wzkTahNSbtmaiiNj8",
      "include_colab_link": true
    },
    "kernelspec": {
      "name": "python3",
      "display_name": "Python 3"
    },
    "language_info": {
      "name": "python"
    }
  },
  "cells": [
    {
      "cell_type": "markdown",
      "metadata": {
        "id": "view-in-github",
        "colab_type": "text"
      },
      "source": [
        "<a href=\"https://colab.research.google.com/github/ravisehrawat/100-days-of-code-Python/blob/main/Dictionary.ipynb\" target=\"_parent\"><img src=\"https://colab.research.google.com/assets/colab-badge.svg\" alt=\"Open In Colab\"/></a>"
      ]
    },
    {
      "cell_type": "markdown",
      "source": [
        "# What is a Dictionary?\n",
        "\n",
        "A dictionary in Python is an unordered collection of key-value pairs. Dictionaries are mutable, unordered collections with elements in the form of a key: value pairs that associate keys to values. Keys must be unique and immutable (like strings, numbers, or tuples), while values can be of any data type. Dictionaries are defined using curly braces {} with key-value pairs separated by colons :.\n",
        "\n",
        "Basic Syntax\n",
        "\n",
        "A dictionary is created using curly braces {} with key-value pairs separated by colons :.\n",
        "\n",
        "Here's the basic syntax:\n",
        "\n",
        "my_dict = {key1: value1, key2: value2, key3: value3, ...}\n",
        "\n",
        "\n",
        "key1, key2, key3, etc. are the keys of the dictionary. Keys must be unique and immutable (like strings, numbers, or tuples).\n",
        "\n",
        "value1, value2, value3, etc. are the values associated with the keys. Values can be of any data type.\n",
        "Example\n"
      ],
      "metadata": {
        "id": "P6d2M1lYhn2n"
      }
    },
    {
      "cell_type": "code",
      "source": [
        "student = {\"name\": \"Alice\", \"age\": 20, \"major\": \"Computer Science\"}\n",
        "print(student)"
      ],
      "metadata": {
        "id": "oyqXIMjMjCu5"
      },
      "execution_count": null,
      "outputs": []
    },
    {
      "cell_type": "markdown",
      "source": [
        "\n",
        "In this example:\n",
        "\n",
        "\"name\", \"age\", and \"major\" are the keys.\n",
        "\"Alice\", 20, and \"Computer Science\" are the values.\n",
        "Important Considerations\n",
        "\n",
        "Keys must be unique within a dictionary. If you try to use the same key for multiple entries, the last value will overwrite the previous one.\n",
        "Keys must be immutable. This means you can't use mutable objects like lists as keys.\n",
        "Values can be of any data type, including other dictionaries, lists, or tuples.\n",
        "\n",
        "\n"
      ],
      "metadata": {
        "id": "-xkV5vLljDN6"
      }
    },
    {
      "cell_type": "markdown",
      "source": [
        "# **characteristics of a dictionary in Python:**\n",
        "\n",
        "1. Mutable: Dictionaries are mutable, which means you can change their contents (add, update, or delete key-value pairs) after they are created.\n",
        "\n",
        "2. Unordered: Dictionaries are unordered collections, meaning the elements are not stored in any specific order. You cannot access elements by their index (like you would with lists).\n",
        "\n",
        "3. Key-Value Pairs: Dictionaries store data in key-value pairs. Each key is unique and associated with a value.\n",
        "\n",
        "4. Keys Must Be Immutable: Dictionary keys must be immutable data types like strings, numbers, or tuples. This is because the keys are used for hashing, which requires them to be unchanging.\n",
        "\n",
        "5. Values Can Be Any Type: Values in a dictionary can be of any data type, including other dictionaries, lists, or tuples. This flexibility allows you to store complex data structures.\n",
        "\n",
        "6. Defined with Curly Braces: Dictionaries are created using curly braces {} with key-value pairs separated by colons :.\n",
        "\n",
        "7. Keys must be unique: Each key within a dictionary must be unique.\n",
        "\n",
        "8. Indexed by keys: Dictionaries are unordered but they are indexed by keys, and we can access them by keys."
      ],
      "metadata": {
        "id": "pvpGd0esgkZS"
      }
    },
    {
      "cell_type": "markdown",
      "source": [
        "**Creating a Dictionary**"
      ],
      "metadata": {
        "id": "M_egNo0shoCo"
      }
    },
    {
      "cell_type": "code",
      "source": [
        "my_dict = {\n",
        "    \"name\": \"Alice\",\n",
        "    \"age\": 30,\n",
        "    \"city\": \"New York\"\n",
        "}\n",
        "print(my_dict)"
      ],
      "metadata": {
        "id": "YmEFdDFqhu-C"
      },
      "execution_count": null,
      "outputs": []
    },
    {
      "cell_type": "markdown",
      "source": [
        "Accessing Values\n",
        "\n",
        "You can access values using their corresponding keys:"
      ],
      "metadata": {
        "id": "-Tgl_QCohxcj"
      }
    },
    {
      "cell_type": "code",
      "source": [
        "name = my_dict[\"name\"]  # Accessing the value associated with the key \"name\"\n",
        "print(name)  # Output: Alice"
      ],
      "metadata": {
        "id": "G-wqhBFOhyqb"
      },
      "execution_count": null,
      "outputs": []
    },
    {
      "cell_type": "markdown",
      "source": [
        "# Common Operations\n",
        "\n",
        "Here are some common operations you can perform on dictionaries:\n",
        "\n",
        "Adding or Updating Items:"
      ],
      "metadata": {
        "id": "UpxjbFt5h060"
      }
    },
    {
      "cell_type": "code",
      "source": [
        "my_dict[\"occupation\"] = \"Engineer\"  # Adding a new key-value pair\n",
        "my_dict[\"age\"] = 31  # Updating the value of an existing key\n",
        "print(my_dict)  # Output: {'name': 'Alice', 'age': 31, 'city': 'New York', 'occupation': 'Engineer'}"
      ],
      "metadata": {
        "id": "AKNIrPMch1jd"
      },
      "execution_count": null,
      "outputs": []
    },
    {
      "cell_type": "markdown",
      "source": [
        "Removing Items:"
      ],
      "metadata": {
        "id": "NcAW4Ox9h5in"
      }
    },
    {
      "cell_type": "code",
      "source": [
        "del my_dict[\"city\"]  # Removing a key-value pair using the del keyword\n",
        "print(my_dict)  # Output: {'name': 'Alice', 'age': 31, 'occupation': 'Engineer'}"
      ],
      "metadata": {
        "id": "rIN1s5R6h6xv"
      },
      "execution_count": null,
      "outputs": []
    },
    {
      "cell_type": "markdown",
      "source": [
        "Checking for Keys:"
      ],
      "metadata": {
        "id": "OEaHadL6h85o"
      }
    },
    {
      "cell_type": "code",
      "source": [
        "if \"name\" in my_dict:\n",
        "        print(\"Name is present in the dictionary\")"
      ],
      "metadata": {
        "id": "uUnj8YJ6h8WI"
      },
      "execution_count": null,
      "outputs": []
    },
    {
      "cell_type": "markdown",
      "source": [
        "Getting All Keys or Values:"
      ],
      "metadata": {
        "id": "jgKI9AqfiC0j"
      }
    },
    {
      "cell_type": "code",
      "source": [
        "keys = my_dict.keys()  # Getting all keys as a list-like object\n",
        "values = my_dict.values()  # Getting all values as a list-like object\n",
        "print(keys)  # Output: dict_keys(['name', 'age', 'occupation'])\n",
        "print(values)  # Output: dict_values(['Alice', 31, 'Engineer'])"
      ],
      "metadata": {
        "id": "u0L-b9shiEaM"
      },
      "execution_count": null,
      "outputs": []
    },
    {
      "cell_type": "markdown",
      "source": [
        "Transversing a dictionary / Iterating Through a Dictionary:"
      ],
      "metadata": {
        "id": "CUxkNpMliGul"
      }
    },
    {
      "cell_type": "code",
      "source": [
        "for key, value in my_dict.items():  # Iterating through key-value pairs\n",
        "        print(key, \":\", value)"
      ],
      "metadata": {
        "id": "5QSim7FQiIUN"
      },
      "execution_count": null,
      "outputs": []
    },
    {
      "cell_type": "markdown",
      "source": [
        "len(dictionary)\n",
        "\n",
        "Returns the number of key-value pairs in the dictionary."
      ],
      "metadata": {
        "id": "BQKQsq8pkH0j"
      }
    },
    {
      "cell_type": "code",
      "source": [
        "my_dict = {\"name\": \"Alice\", \"age\": 30, \"city\": \"New York\"}\n",
        "length = len(my_dict)  # length will be 3\n",
        "print(length)"
      ],
      "metadata": {
        "id": "nz2Wr_9DkON1"
      },
      "execution_count": null,
      "outputs": []
    },
    {
      "cell_type": "markdown",
      "source": [
        "dictionary.clear()\n",
        "\n",
        "Removes all items from the dictionary, making it empty."
      ],
      "metadata": {
        "id": "aL-fKI5RkRx_"
      }
    },
    {
      "cell_type": "code",
      "source": [
        "my_dict.clear()  # my_dict will become {}\n",
        "print(my_dict)"
      ],
      "metadata": {
        "id": "pz_3QBaQkQLe"
      },
      "execution_count": null,
      "outputs": []
    },
    {
      "cell_type": "markdown",
      "source": [
        "dictionary.get(key, default=None)\n",
        "\n",
        "Returns the value associated with the given key. If the key is not found, it returns the default value (which is None by default).\n",
        "\n"
      ],
      "metadata": {
        "id": "jwfTNHdPkTjg"
      }
    },
    {
      "cell_type": "code",
      "source": [
        "my_dict = {\"name\": \"Alice\", \"age\": 30, \"city\": \"New York\"}\n",
        "name = my_dict.get(\"name\")  # name will be \"Alice\"\n",
        "print(name)\n",
        "age = my_dict.get(\"age\")  # age will be 30\n",
        "print(age)\n",
        "city = my_dict.get(\"country\", \"Unknown\")  # city will be \"Unknown\" (key \"country\" not found)\n",
        "print(city)"
      ],
      "metadata": {
        "id": "6Ni1Zak6kWXB"
      },
      "execution_count": null,
      "outputs": []
    },
    {
      "cell_type": "markdown",
      "source": [
        "dictionary.items()\n",
        "\n",
        "Returns a view object containing all key-value pairs as tuples."
      ],
      "metadata": {
        "id": "bVMoq3T4kqJ7"
      }
    },
    {
      "cell_type": "code",
      "source": [
        "items = my_dict.items()  # items will be a view object\n",
        "print(items)\n",
        "for key, value in items:\n",
        "    print(key, \":\", value)"
      ],
      "metadata": {
        "id": "HHh40FUTkrkD"
      },
      "execution_count": null,
      "outputs": []
    },
    {
      "cell_type": "markdown",
      "source": [
        "dictionary.keys()\n",
        "\n",
        "Returns a view object containing all keys in the dictionary."
      ],
      "metadata": {
        "id": "IsuH7wpskuoO"
      }
    },
    {
      "cell_type": "code",
      "source": [
        "keys = my_dict.keys()  # keys will be a view object\n",
        "for key in keys:\n",
        "    print(key)"
      ],
      "metadata": {
        "id": "OOUDOt16kuLs"
      },
      "execution_count": null,
      "outputs": []
    },
    {
      "cell_type": "markdown",
      "source": [
        "dictionary.values()\n",
        "\n",
        "Returns a view object containing all values in the dictionary."
      ],
      "metadata": {
        "id": "0JxPHqzwkxu-"
      }
    },
    {
      "cell_type": "code",
      "source": [
        "values = my_dict.values()  # values will be a view object\n",
        "for value in values:\n",
        "    print(value)"
      ],
      "metadata": {
        "id": "twjDHSZwkxUm"
      },
      "execution_count": null,
      "outputs": []
    },
    {
      "cell_type": "markdown",
      "source": [
        "dictionary.update(other_dictionary)\n",
        "\n",
        "Updates the dictionary with key-value pairs from another dictionary or iterable."
      ],
      "metadata": {
        "id": "CBDgshpok0Au"
      }
    },
    {
      "cell_type": "code",
      "source": [
        "other_dict = {\"occupation\": \"Engineer\", \"city\": \"London\"}\n",
        "my_dict.update(other_dict)  # my_dict will be updated with items from other_dict\n",
        "print(my_dict)"
      ],
      "metadata": {
        "id": "2F4vDrCck3zB"
      },
      "execution_count": null,
      "outputs": []
    },
    {
      "cell_type": "markdown",
      "source": [
        "dictionary.pop(key, default=None)\n",
        "\n",
        "Removes and returns the value associated with the given key. If the key is not found, it returns the default value (which is None by default). If default is not specified and the key is not found, a KeyError is raised."
      ],
      "metadata": {
        "id": "b--_wzsZk5C5"
      }
    },
    {
      "cell_type": "code",
      "source": [
        "age = my_dict.pop(\"age\")  # age will be 30, and \"age\" will be removed from my_dict\n",
        "city = my_dict.pop(\"country\", \"Unknown\")  # city will be \"Unknown\" (key \"country\" not found)\n",
        "print(age)\n",
        "print(city)\n",
        "print(my_dict)"
      ],
      "metadata": {
        "id": "OSRZY-ajk8hb"
      },
      "execution_count": null,
      "outputs": []
    },
    {
      "cell_type": "markdown",
      "source": [
        "**checking for a key in dictionary:**\n",
        "\n",
        "Method 1: Using the in keyword"
      ],
      "metadata": {
        "id": "Rn_Yr6QwiQfU"
      }
    },
    {
      "cell_type": "markdown",
      "source": [
        "\n",
        "```\n",
        "<key> in <dictionary> - This will return True in case the given key is present in the dictionary otherwise False.\n",
        "\n",
        "<key> not in <dictionary> - This will return True in case the given key is not present in the dictionary otherwise False.\n",
        "```\n",
        "\n"
      ],
      "metadata": {
        "id": "VAsr09ayjyT_"
      }
    },
    {
      "cell_type": "code",
      "source": [
        "my_dict = {\"name\": \"Alice\", \"age\": 30, \"city\": \"New York\"}\n",
        "\n",
        "if \"name\" in my_dict:\n",
        "  print(\"Key 'name' is present in the dictionary\")\n",
        "else:\n",
        "  print(\"Key 'name' is not present in the dictionary\")"
      ],
      "metadata": {
        "id": "M0BB8UChilCf"
      },
      "execution_count": null,
      "outputs": []
    },
    {
      "cell_type": "markdown",
      "source": [
        "Reasoning:\n",
        "\n",
        "1. The in keyword checks if the specified key exists as a key in the dictionary.\n",
        "2. If the key is found, it returns True, and the code inside the if block is executed.\n",
        "3. If the key is not found, it returns False, and the code inside the else block (if present) is executed.\n",
        "\n",
        "\n",
        "\n",
        "Method 2: Using the get() method and checking for None.\n",
        "\n",
        "This method is safer if you're not sure if the key exists and want to avoid a KeyError if the key is not found."
      ],
      "metadata": {
        "id": "PTIHxyD5i-ME"
      }
    },
    {
      "cell_type": "code",
      "source": [
        "my_dict = {\"name\": \"Alice\", \"age\": 30, \"city\": \"New York\"}\n",
        "value = my_dict.get(\"country\")\n",
        "if value is not None:\n",
        "    print(\"country is present in the dict\")\n",
        "else:\n",
        "    print(\"country is not present in the dict\")"
      ],
      "metadata": {
        "id": "VLXBxHmBjRJ_"
      },
      "execution_count": null,
      "outputs": []
    },
    {
      "cell_type": "markdown",
      "source": [
        "Reasoning\n",
        "\n",
        "1. my_dict.get(\"country\") returns the value if the key \"country\" exists, otherwise None.\n",
        "2. if value is not None: checks if the returned value is not None, signifying the key is present.\n",
        "3. print(\"Key 'country' is present in the dictionary\") is executed only if the key is found and value is not None."
      ],
      "metadata": {
        "id": "5VcBZGJdjUIm"
      }
    },
    {
      "cell_type": "markdown",
      "source": [
        "# **Programs**\n",
        "1. Write a program to create a dictionary containing names of competition winner students as key and number of their wins as values. Take 3 input for names and wins."
      ],
      "metadata": {
        "id": "DkUmgqBKmmZ3"
      }
    },
    {
      "cell_type": "markdown",
      "source": [
        "\n",
        "\n",
        "```\n",
        "Example:\n",
        "Enter the name of the winner: Alice\n",
        "Enter the number of wins: 2\n",
        "Enter the name of the winner: Bob\n",
        "Enter the number of wins: 3\n",
        "Enter the name of the winner: Charlie\n",
        "Enter the number of wins: 1\n",
        "\n",
        "\n",
        "OUTPUT:\n",
        "{'Alice': 2, 'Bob': 3, 'Charlie': 1}\n",
        "\n",
        "\n",
        "\n",
        "\n",
        "```\n",
        "\n"
      ],
      "metadata": {
        "id": "oVelG8Srm4er"
      }
    },
    {
      "cell_type": "code",
      "source": [
        "# Create an empty dictionary to store the winners\n",
        "winners = {}\n",
        "\n",
        "# Get input for 3 winners\n",
        "for i in range(3):\n",
        "    name = input(\"Enter the name of the winner: \")\n",
        "    wins = int(input(\"Enter the number of wins: \"))\n",
        "\n",
        "    # Add the winner to the dictionary\n",
        "    winners[name] = wins\n",
        "\n",
        "# Print the dictionary\n",
        "print(winners)"
      ],
      "metadata": {
        "id": "hmdm4b-rmsQB"
      },
      "execution_count": null,
      "outputs": []
    },
    {
      "cell_type": "markdown",
      "source": [
        "How it works:\n",
        "\n",
        "* Initialization:\n",
        "\n",
        "An empty dictionary winners is created to store the data.\n",
        "\n",
        "* Input Loop:\n",
        "\n",
        "The code uses a for loop to iterate 3 times (for 3 winners).\n",
        "Inside the loop, it prompts the user to enter the name and wins for each winner using the input() function.\n",
        "The int() function is used to convert the input for wins into an integer.\n",
        "\n",
        "* Adding to Dictionary:\n",
        "\n",
        "The winner's name is used as the key, and the wins are used as the value.\n",
        "This key-value pair is added to the winners dictionary.\n",
        "\n",
        "* Printing:\n",
        "\n",
        "Finally, the print() function is used to display the contents of the winners dictionary."
      ],
      "metadata": {
        "id": "MRyyjQ-KmzIT"
      }
    }
  ]
}